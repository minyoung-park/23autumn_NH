{
 "cells": [
  {
   "cell_type": "code",
   "execution_count": 6,
   "metadata": {},
   "outputs": [],
   "source": [
    "import numpy as np \n",
    "import pandas as pd \n",
    "import seaborn as sns\n",
    "import matplotlib.pyplot as plt\n",
    "import networkx as nx"
   ]
  },
  {
   "cell_type": "code",
   "execution_count": 2,
   "metadata": {},
   "outputs": [],
   "source": [
    "df =pd.read_csv(\"overseas_sector.csv\",encoding='cp949') #\ttck_iem_cd\n",
    "df.rename(columns={\n",
    "    'trd_dt': 'date',\n",
    "    'tck_iem_cd': 'Symbol',\n",
    "    'gts_iem_ong_pr': 'Open',\n",
    "    'gts_iem_hi_pr': 'High',\n",
    "    'gts_iem_low_pr': 'Low',\n",
    "    'gts_iem_end_pr': 'Close',\n",
    "    'gts_acl_trd_qty': 'Volume',\n",
    "    'Sector': 'Sector'\n",
    "}, inplace=True)\n",
    "\n",
    "# 불필요한 열 삭제\n",
    "df.drop(columns=['Unnamed: 0', 'isin_cd', 'fc_sec_krl_nm', 'fc_sec_eng_nm','gts_sll_cns_sum_qty',\t'gts_byn_cns_sum_qty'], inplace=True)\n",
    "df['date'] = pd.to_datetime(df['date'], format='%Y%m%d')\n",
    "df['date'] = pd.to_datetime(df['date'])\n",
    "\n",
    "# 날짜 열을 인덱스로 설정\n",
    "df.set_index('date', inplace=True)\n",
    "\n",
    "# 'Adj Close' 열 추가 (임시로 NaN 값으로 설정)\n",
    "df['Adj Close'] = None\n",
    "\n",
    "# NaN 열 삭제"
   ]
  },
  {
   "cell_type": "code",
   "execution_count": 10,
   "metadata": {},
   "outputs": [],
   "source": [
    "#Network analysis\n",
    "g = nx.Graph()\n",
    "g = nx.from_pandas_edgelist(df, source = 'Symbol', target = 'Close')\n",
    "\n",
    "plt.figure(figsize=(20, 20))\n",
    "pos = nx.spring_layout(g, k = 0.15)\n",
    "nx.draw_networkx(g,pos, node_size = 25, node_color = 'blue')\n",
    "plt.show()"
   ]
  }
 ],
 "metadata": {
  "kernelspec": {
   "display_name": "Python 3",
   "language": "python",
   "name": "python3"
  },
  "language_info": {
   "codemirror_mode": {
    "name": "ipython",
    "version": 3
   },
   "file_extension": ".py",
   "mimetype": "text/x-python",
   "name": "python",
   "nbconvert_exporter": "python",
   "pygments_lexer": "ipython3",
   "version": "3.10.9"
  }
 },
 "nbformat": 4,
 "nbformat_minor": 2
}
